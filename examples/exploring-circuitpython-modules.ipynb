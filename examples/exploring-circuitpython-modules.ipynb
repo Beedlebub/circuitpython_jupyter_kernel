{
 "cells": [
  {
   "cell_type": "markdown",
   "metadata": {},
   "source": [
    "## Exploring CircuitPython Modules"
   ]
  },
  {
   "cell_type": "markdown",
   "metadata": {},
   "source": [
    "A module is code that performs tasks on a particular thing. For example,\n",
    "the `analogio` module performs tasks for analog input and output from a\n",
    "CircuitPython board.\n",
    "\n",
    "Let's take a look at the CircuitPython modules:\n"
   ]
  },
  {
   "cell_type": "code",
   "execution_count": 1,
   "metadata": {
    "scrolled": true
   },
   "outputs": [],
   "source": [
    "cp_modules = ['__main__',\n",
    "              'builtins',\n",
    "              'micropython',\n",
    "              'array',\n",
    "              'ucollections',\n",
    "              'ustruct',\n",
    "              'math',\n",
    "              'sys',\n",
    "              'gc',\n",
    "              'urandom',\n",
    "              'microcontroller',\n",
    "              'analogio',\n",
    "              'digitalio',\n",
    "              'pulseio',\n",
    "              'busio',\n",
    "              'board',\n",
    "              'uos',\n",
    "              'time',\n",
    "              'neopixel_write',\n",
    "              'samd',\n",
    "              'usb_hid',\n",
    "              'touchio',\n",
    "              'bitbangio',\n",
    "             ]"
   ]
  },
  {
   "cell_type": "code",
   "execution_count": 2,
   "metadata": {},
   "outputs": [
    {
     "name": "stdout",
     "output_type": "stream",
     "text": [
      "sys\r\n"
     ]
    }
   ],
   "source": [
    "print(cp_modules[7])"
   ]
  },
  {
   "cell_type": "code",
   "execution_count": 3,
   "metadata": {},
   "outputs": [
    {
     "name": "stdout",
     "output_type": "stream",
     "text": [
      "<class 'str'>\r\n"
     ]
    }
   ],
   "source": [
    "print(type(cp_modules[7]))"
   ]
  },
  {
   "cell_type": "code",
   "execution_count": 4,
   "metadata": {},
   "outputs": [
    {
     "name": "stdout",
     "output_type": "stream",
     "text": [
      "object <module ''> is of type module\r\n",
      "  D0 -- board.D0\r\n",
      "  A2 -- board.D0\r\n",
      "  SDA -- board.D0\r\n",
      "  D1 -- board.D1\r\n",
      "  A0 -- board.D1\r\n",
      "  D2 -- board.D2\r\n",
      "  A1 -- board.D2\r\n",
      "  SCL -- board.D2\r\n",
      "  MISO -- board.D2\r\n",
      "  D4 -- board.D4\r\n",
      "  A4 -- board.D4\r\n",
      "  TX -- board.D4\r\n",
      "  MOSI -- board.D4\r\n",
      "  D3 -- board.D3\r\n",
      "  A3 -- board.D3\r\n",
      "  RX -- board.D3\r\n",
      "  SCK -- board.D3\r\n",
      "  D13 -- board.D13\r\n",
      "  APA102_MOSI -- board.APA102_MOSI\r\n",
      "  APA102_SCK -- board.APA102_SCK\r\n",
      "None\r\n"
     ]
    }
   ],
   "source": [
    "print(help(board))"
   ]
  },
  {
   "cell_type": "code",
   "execution_count": 5,
   "metadata": {},
   "outputs": [
    {
     "name": "stdout",
     "output_type": "stream",
     "text": [
      "object <module 'samd'> is of type module\r\n",
      "  __name__ -- samd\r\n",
      "  enable_autoreload -- <function>\r\n",
      "  disable_autoreload -- <function>\r\n",
      "  set_rgb_status_brightness -- <function>\r\n",
      "None\r\n"
     ]
    }
   ],
   "source": [
    "import samd\n",
    "print(help(samd))"
   ]
  },
  {
   "cell_type": "code",
   "execution_count": 6,
   "metadata": {},
   "outputs": [
    {
     "name": "stdout",
     "output_type": "stream",
     "text": [
      "object <module 'microcontroller'> is of type module\r\n",
      "  __name__ -- microcontroller\r\n",
      "  cpu -- <Processor>\r\n",
      "  delay_us -- <function>\r\n",
      "  disable_interrupts -- <function>\r\n",
      "  enable_interrupts -- <function>\r\n",
      "  on_next_reset -- <function>\r\n",
      "  reset -- <function>\r\n",
      "  nvm -- None\r\n",
      "  RunMode -- <class 'RunMode'>\r\n",
      "  Pin -- <class 'Pin'>\r\n",
      "  pin -- <module ''>\r\n",
      "  Processor -- <class 'Processor'>\r\n",
      "None\r\n"
     ]
    }
   ],
   "source": [
    "import microcontroller\n",
    "print(help(microcontroller))"
   ]
  },
  {
   "cell_type": "code",
   "execution_count": 7,
   "metadata": {},
   "outputs": [
    {
     "name": "stdout",
     "output_type": "stream",
     "text": [
      "object <module 'micropython'> is of type module\r\n",
      "  __name__ -- micropython\r\n",
      "  const -- <function>\r\n",
      "  opt_level -- <function>\r\n",
      "  heap_lock -- <function>\r\n",
      "  heap_unlock -- <function>\r\n",
      "  kbd_intr -- <function>\r\n",
      "None\r\n"
     ]
    }
   ],
   "source": [
    "import micropython\n",
    "print(help(micropython))"
   ]
  },
  {
   "cell_type": "code",
   "execution_count": 8,
   "metadata": {},
   "outputs": [],
   "source": [
    "# MIT License\n",
    "# Copyright: Carol Willing, 2017.\n",
    "\n",
    "# Learn, Build, Share - Openly\n",
    "# A\"Gentle Code Garden\" tutorial"
   ]
  },
  {
   "cell_type": "code",
   "execution_count": null,
   "metadata": {
    "collapsed": true
   },
   "outputs": [],
   "source": []
  }
 ],
 "metadata": {
  "kernelspec": {
   "display_name": "CircuitPython",
   "language": "python",
   "name": "circuitpython"
  },
  "language_info": {
   "codemirror_mode": {
    "name": "python",
    "version": 3
   },
   "file_extension": ".py",
   "mimetype": "text/x-python",
   "name": "python",
   "pygments_lexer": "python3",
   "version": "3"
  }
 },
 "nbformat": 4,
 "nbformat_minor": 2
}
