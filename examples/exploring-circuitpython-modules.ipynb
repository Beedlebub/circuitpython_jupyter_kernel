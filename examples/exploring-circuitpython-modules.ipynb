{
 "cells": [
  {
   "cell_type": "markdown",
   "metadata": {},
   "source": [
    "## Exploring CircuitPython Modules"
   ]
  },
  {
   "cell_type": "markdown",
   "metadata": {},
   "source": [
    "A module is code that performs tasks on a particular thing. For example,\n",
    "the `analogio` module performs tasks for analog input and output from a\n",
    "CircuitPython board.\n",
    "\n",
    "Let's take a look at the CircuitPython modules:\n"
   ]
  },
  {
   "cell_type": "code",
   "execution_count": 5,
   "metadata": {
    "scrolled": true
   },
   "outputs": [],
   "source": [
    "cp_modules = ['__main__',\n",
    "              'builtins',\n",
    "              'micropython',\n",
    "              'array',\n",
    "              'ucollections',\n",
    "              'ustruct',\n",
    "              'math',\n",
    "              'sys',\n",
    "              'gc',\n",
    "              'urandom',\n",
    "              'microcontroller',\n",
    "              'analogio',\n",
    "              'digitalio',\n",
    "              'pulseio',\n",
    "              'busio',\n",
    "              'board',\n",
    "              'uos',\n",
    "              'time',\n",
    "              'neopixel_write',\n",
    "              'samd',\n",
    "              'usb_hid',\n",
    "              'touchio',\n",
    "              'bitbangio',\n",
    "             ]"
   ]
  },
  {
   "cell_type": "code",
   "execution_count": 7,
   "metadata": {},
   "outputs": [
    {
     "name": "stdout",
     "output_type": "stream",
     "text": [
      "sys\r\n"
     ]
    }
   ],
   "source": [
    "print(cp_modules[7])"
   ]
  },
  {
   "cell_type": "code",
   "execution_count": 11,
   "metadata": {},
   "outputs": [
    {
     "name": "stdout",
     "output_type": "stream",
     "text": [
      "<class 'str'>\r\n"
     ]
    }
   ],
   "source": [
    "print(type(cp_modules[7]))"
   ]
  },
  {
   "cell_type": "code",
   "execution_count": 4,
   "metadata": {},
   "outputs": [
    {
     "name": "stdout",
     "output_type": "stream",
     "text": [
      "object <module ''> is of type module\r\n",
      "  A0 -- board.A0\r\n",
      "  A1 -- board.A1\r\n",
      "  A2 -- board.A2\r\n",
      "  A3 -- board.A3\r\n",
      "  A4 -- board.A4\r\n",
      "  A5 -- board.A5\r\n",
      "  SCK -- board.SCK\r\n",
      "  MOSI -- board.MOSI\r\n",
      "  MISO -- board.MISO\r\n",
      "  D0 -- board.D0\r\n",
      "  RX -- board.D0\r\n",
      "  D1 -- board.D1\r\n",
      "  TX -- board.D1\r\n",
      "  SDA -- board.SDA\r\n",
      "  SCL -- board.SCL\r\n",
      "  D5 -- board.D5\r\n",
      "  D6 -- board.D6\r\n",
      "  D9 -- board.D9\r\n",
      "  D10 -- board.D10\r\n",
      "  D11 -- board.D11\r\n",
      "  D12 -- board.D12\r\n",
      "  D13 -- board.D13\r\n",
      "  NEOPIXEL -- board.NEOPIXEL\r\n",
      "None\r\n"
     ]
    }
   ],
   "source": [
    "print(help(board))"
   ]
  },
  {
   "cell_type": "code",
   "execution_count": 14,
   "metadata": {},
   "outputs": [
    {
     "name": "stdout",
     "output_type": "stream",
     "text": [
      "object <module 'samd'> is of type module\r\n",
      "  __name__ -- samd\r\n",
      "  enable_autoreset -- <function>\r\n",
      "  disable_autoreset -- <function>\r\n",
      "None\r\n"
     ]
    }
   ],
   "source": [
    "import samd\n",
    "print(help(samd))"
   ]
  },
  {
   "cell_type": "code",
   "execution_count": 15,
   "metadata": {},
   "outputs": [
    {
     "name": "stdout",
     "output_type": "stream",
     "text": [
      "object <module 'microcontroller'> is of type module\r\n",
      "  __name__ -- microcontroller\r\n",
      "  delay_us -- <function>\r\n",
      "  disable_interrupts -- <function>\r\n",
      "  enable_interrupts -- <function>\r\n",
      "  Pin -- <class 'Pin'>\r\n",
      "  pin -- <module ''>\r\n",
      "None\r\n"
     ]
    }
   ],
   "source": [
    "import microcontroller\n",
    "print(help(microcontroller))"
   ]
  },
  {
   "cell_type": "code",
   "execution_count": 16,
   "metadata": {},
   "outputs": [
    {
     "name": "stdout",
     "output_type": "stream",
     "text": [
      "object <module 'micropython'> is of type module\r\n",
      "  __name__ -- micropython\r\n",
      "  const -- <function>\r\n",
      "  opt_level -- <function>\r\n",
      "  mem_info -- <function>\r\n",
      "  qstr_info -- <function>\r\n",
      "  stack_use -- <function>\r\n",
      "  heap_lock -- <function>\r\n",
      "  heap_unlock -- <function>\r\n",
      "None\r\n"
     ]
    }
   ],
   "source": [
    "import micropython\n",
    "print(help(micropython))"
   ]
  },
  {
   "cell_type": "code",
   "execution_count": 12,
   "metadata": {
    "collapsed": true
   },
   "outputs": [],
   "source": [
    "# MIT License\n",
    "# Copyright: Carol Willing, 2017.\n",
    "\n",
    "# Learn, Build, Share - Openly\n",
    "# A\"Gentle Code Garden\" tutorial"
   ]
  },
  {
   "cell_type": "code",
   "execution_count": null,
   "metadata": {
    "collapsed": true
   },
   "outputs": [],
   "source": []
  }
 ],
 "metadata": {
  "kernelspec": {
   "display_name": "CircuitPython",
   "language": "python",
   "name": "circuitpython"
  },
  "language_info": {
   "codemirror_mode": {
    "name": "python",
    "version": 3
   },
   "file_extension": ".py",
   "mimetype": "text/x-python",
   "name": "python",
   "pygments_lexer": "python3",
   "version": "3"
  }
 },
 "nbformat": 4,
 "nbformat_minor": 2
}
