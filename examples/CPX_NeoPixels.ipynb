{
 "cells": [
  {
   "cell_type": "markdown",
   "metadata": {},
   "source": [
    "# CircuitPython NeoPixel\n",
    "![NeoPixel-CPX](https://cdn-learn.adafruit.com/assets/assets/000/047/260/medium800/circuit_playground_neopix.jpg?1507908659)\n",
    "NeoPixels are a revolutionary and ultra-popular way to add lights and color to your project. These stranded RGB lights have the controller inside the LED, so you just push the RGB data and the LEDs do all the work for you! They're a perfect match for CircuitPython."
   ]
  },
  {
   "cell_type": "markdown",
   "metadata": {},
   "source": [
    "Let's first check if Jupyter can read our CircuitPython board:"
   ]
  },
  {
   "cell_type": "code",
   "execution_count": null,
   "metadata": {},
   "outputs": [],
   "source": [
    "import os\n",
    "print(os.uname())"
   ]
  },
  {
   "cell_type": "markdown",
   "metadata": {},
   "source": [
    "First, we'll want to import the `time` and `board` pin definitions"
   ]
  },
  {
   "cell_type": "code",
   "execution_count": null,
   "metadata": {},
   "outputs": [],
   "source": [
    "import time\n",
    "import board"
   ]
  },
  {
   "cell_type": "markdown",
   "metadata": {},
   "source": [
    "Next, we'll want to import the neopixel library by running:"
   ]
  },
  {
   "cell_type": "code",
   "execution_count": null,
   "metadata": {},
   "outputs": [],
   "source": [
    "import neopixel"
   ]
  },
  {
   "cell_type": "markdown",
   "metadata": {},
   "source": [
    "Did you receive an error: `ImportError: no module named 'neopixel'`? [You'll need to install the neopixel.mpy library if you don't have it yet.](https://github.com/adafruit/Adafruit_CircuitPython_Bundle/releases/latest)"
   ]
  },
  {
   "cell_type": "markdown",
   "metadata": {},
   "source": [
    "Let's create a `pixels` object and configure it with the ten builtin neopixels on the Circuit Playground Express"
   ]
  },
  {
   "cell_type": "code",
   "execution_count": null,
   "metadata": {},
   "outputs": [],
   "source": [
    "pixels = neopixel.NeoPixel(board.NEOPIXEL, 10, brightness=.2)\n",
    "pixels.fill((0, 0, 0))\n",
    "pixels.show()"
   ]
  },
  {
   "cell_type": "markdown",
   "metadata": {},
   "source": [
    "Ok, now let's make the neopixel ring flash by making a function called 'ring_flash'`"
   ]
  },
  {
   "cell_type": "code",
   "execution_count": null,
   "metadata": {},
   "outputs": [],
   "source": [
    "def flash_pixels(flash_speed=0.5):\n",
    "    print('flashing R')\n",
    "    pixels.fill((255, 0, 0))\n",
    "    pixels.show()\n",
    "    time.sleep(flash_speed)\n",
    "    \n",
    "    print('flashing G')\n",
    "    pixels.fill((0, 255, 0))\n",
    "    pixels.show()\n",
    "    time.sleep(flash_speed)\n",
    "    \n",
    "    print('flashing B')\n",
    "    pixels.fill((0, 0, 255))\n",
    "    pixels.show()\n",
    "    time.sleep(flash_speed)"
   ]
  },
  {
   "cell_type": "markdown",
   "metadata": {},
   "source": [
    "We can increase the speed of the NeoPixels by definining a `flash_speed`"
   ]
  },
  {
   "cell_type": "code",
   "execution_count": null,
   "metadata": {},
   "outputs": [],
   "source": [
    "flash_speed = 0.25"
   ]
  },
  {
   "cell_type": "markdown",
   "metadata": {},
   "source": [
    "Then, call `flash_pixels` and pass in the `flash_speed` variable we just created"
   ]
  },
  {
   "cell_type": "code",
   "execution_count": null,
   "metadata": {},
   "outputs": [],
   "source": [
    "flash_pixels(flash_speed)"
   ]
  },
  {
   "cell_type": "markdown",
   "metadata": {},
   "source": [
    "Want more? Read the full tutorial [on the Adafruit Learning System](https://learn.adafruit.com/adafruit-circuit-playground-express/circuitpython-neopixel)"
   ]
  }
 ],
 "metadata": {
  "kernelspec": {
   "display_name": "CircuitPython",
   "language": "python",
   "name": "circuitpython"
  },
  "language_info": {
   "codemirror_mode": {
    "name": "python",
    "version": 3
   },
   "file_extension": ".py",
   "mimetype": "text/x-python",
   "name": "python",
   "pygments_lexer": "python3",
   "version": "3"
  }
 },
 "nbformat": 4,
 "nbformat_minor": 2
}
