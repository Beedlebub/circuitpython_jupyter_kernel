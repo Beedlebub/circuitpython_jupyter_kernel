{
 "cells": [
  {
   "cell_type": "markdown",
   "metadata": {},
   "source": [
    "## Circuit Playground, CircuitPython, and NeoPixels\n",
    "This Jupyter Notebook shows how to interact with t\n",
    "\n",
    "![cpx neopixels](https://cdn-learn.adafruit.com/assets/assets/000/047/260/medium800/circuit_playground_neopix.jpg?1507908659)"
   ]
  },
  {
   "cell_type": "markdown",
   "metadata": {},
   "source": [
    "Import the `time` and `board` libraries:"
   ]
  },
  {
   "cell_type": "code",
   "execution_count": 1,
   "metadata": {},
   "outputs": [],
   "source": [
    "import time\n",
    "import board"
   ]
  },
  {
   "cell_type": "markdown",
   "metadata": {},
   "source": [
    "You'll also need two external libraries: `neopixel` and `touchio`:"
   ]
  },
  {
   "cell_type": "code",
   "execution_count": 2,
   "metadata": {},
   "outputs": [],
   "source": [
    "import neopixel\n",
    "import touchio"
   ]
  },
  {
   "cell_type": "markdown",
   "metadata": {},
   "source": [
    "If you see the following error, you need to install the neopixel library into your board's lib folder. \n",
    "> ImportError: no module named 'neopixel'\n",
    "\n",
    "[Download the latest CircuitPython library bundle release from GitHub](https://github.com/adafruit/Adafruit_CircuitPython_Bundle/releases/latest)"
   ]
  },
  {
   "cell_type": "markdown",
   "metadata": {},
   "source": [
    "Next, we're going to create a `pixels` strand using the ten NeoPixels on the Circuit Playground Express:"
   ]
  },
  {
   "cell_type": "code",
   "execution_count": 3,
   "metadata": {},
   "outputs": [],
   "source": [
    "pixels = neopixel.NeoPixel(board.NEOPIXEL, 10, brightness=.2)"
   ]
  },
  {
   "cell_type": "markdown",
   "metadata": {},
   "source": [
    "The **Red**, **Green**, and **Blue** values of the NeoPixel are controlled with the following tuple:"
   ]
  },
  {
   "cell_type": "code",
   "execution_count": 6,
   "metadata": {},
   "outputs": [],
   "source": [
    "pixels.fill((255, 255, 255))\n",
    "pixels.show()"
   ]
  },
  {
   "cell_type": "markdown",
   "metadata": {},
   "source": [
    "**Too bright?** Let's turn the pixels off by setting the values in the tuple to `0` and writing to them by calling `pixels.show()`"
   ]
  },
  {
   "cell_type": "code",
   "execution_count": 10,
   "metadata": {},
   "outputs": [],
   "source": [
    "pixels.fill((0, 0, 0))\n",
    "pixels.show()"
   ]
  }
 ],
 "metadata": {
  "kernelspec": {
   "display_name": "CircuitPython",
   "language": "python",
   "name": "circuitpython"
  },
  "language_info": {
   "codemirror_mode": {
    "name": "python",
    "version": 3
   },
   "file_extension": ".py",
   "mimetype": "text/x-python",
   "name": "python",
   "pygments_lexer": "python3",
   "version": "3"
  }
 },
 "nbformat": 4,
 "nbformat_minor": 2
}
