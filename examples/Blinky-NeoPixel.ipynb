{
 "cells": [
  {
   "cell_type": "markdown",
   "metadata": {},
   "source": [
    "## Blinky-NeoPixel\n",
    "\n",
    "Turn on and turn off the NeoPixel strand controlled at Pin D6."
   ]
  },
  {
   "cell_type": "markdown",
   "metadata": {},
   "source": [
    "### Imports"
   ]
  },
  {
   "cell_type": "markdown",
   "metadata": {},
   "source": [
    "#### Common board libraries"
   ]
  },
  {
   "cell_type": "code",
   "execution_count": 1,
   "metadata": {
    "collapsed": true
   },
   "outputs": [],
   "source": [
    "import board\n",
    "import microcontroller"
   ]
  },
  {
   "cell_type": "markdown",
   "metadata": {},
   "source": [
    "#### Standard libraries"
   ]
  },
  {
   "cell_type": "code",
   "execution_count": 2,
   "metadata": {
    "collapsed": true
   },
   "outputs": [],
   "source": [
    "import time"
   ]
  },
  {
   "cell_type": "markdown",
   "metadata": {},
   "source": [
    "#### Communications"
   ]
  },
  {
   "cell_type": "code",
   "execution_count": 3,
   "metadata": {
    "collapsed": true
   },
   "outputs": [],
   "source": [
    "import digitalio"
   ]
  },
  {
   "cell_type": "markdown",
   "metadata": {},
   "source": [
    "#### Additional hardware"
   ]
  },
  {
   "cell_type": "code",
   "execution_count": 65,
   "metadata": {},
   "outputs": [],
   "source": [
    "import neopixel_write as npw\n",
    "import NeoPixel"
   ]
  },
  {
   "cell_type": "markdown",
   "metadata": {},
   "source": [
    "### Set up and initialization"
   ]
  },
  {
   "cell_type": "code",
   "execution_count": 5,
   "metadata": {
    "collapsed": true
   },
   "outputs": [],
   "source": [
    "# This setting will vary on the number of NeoPixel LEDs on a strand or ring.\n",
    "num_neo_leds = 12"
   ]
  },
  {
   "cell_type": "code",
   "execution_count": 31,
   "metadata": {
    "collapsed": true
   },
   "outputs": [],
   "source": [
    "# 3 RGB or 4 RGBW or just 3?  Used to encode colors. (0 - 255)\n",
    "bytes_per_pixel = 4"
   ]
  },
  {
   "cell_type": "code",
   "execution_count": 32,
   "metadata": {
    "collapsed": true
   },
   "outputs": [],
   "source": [
    "# Data buffer that holds the desired NeoPixel setting\n",
    "neo_buffer = bytearray(num_neo_leds * bytes_per_pixel)"
   ]
  },
  {
   "cell_type": "markdown",
   "metadata": {},
   "source": [
    "#### Set up control pin for data"
   ]
  },
  {
   "cell_type": "code",
   "execution_count": 8,
   "metadata": {
    "collapsed": true
   },
   "outputs": [],
   "source": [
    "neo_control_pin = digitalio.DigitalInOut(board.D6)"
   ]
  },
  {
   "cell_type": "code",
   "execution_count": 9,
   "metadata": {
    "collapsed": true
   },
   "outputs": [],
   "source": [
    "neo_control_pin.switch_to_output()"
   ]
  },
  {
   "cell_type": "markdown",
   "metadata": {},
   "source": [
    "#### Turn off the NeoPixels"
   ]
  },
  {
   "cell_type": "code",
   "execution_count": 40,
   "metadata": {
    "collapsed": true
   },
   "outputs": [],
   "source": [
    "# Turned all neopixels in ring off\n",
    "npw.neopixel_write(neo_control_pin, neo_buffer)"
   ]
  },
  {
   "cell_type": "code",
   "execution_count": 75,
   "metadata": {
    "collapsed": true
   },
   "outputs": [],
   "source": [
    "R = (255, 0, 0)\n",
    "G = (0, 255, 0)\n",
    "B = (0, 0, 255)"
   ]
  },
  {
   "cell_type": "code",
   "execution_count": 76,
   "metadata": {},
   "outputs": [],
   "source": [
    "neo_buffer_num_bytes = num_neo_leds * bytes_per_pixel"
   ]
  },
  {
   "cell_type": "code",
   "execution_count": 77,
   "metadata": {},
   "outputs": [
    {
     "name": "stdout",
     "output_type": "stream",
     "text": [
      "48\r\n"
     ]
    }
   ],
   "source": [
    "print(neo_buffer_num_bytes)"
   ]
  },
  {
   "cell_type": "code",
   "execution_count": 97,
   "metadata": {},
   "outputs": [],
   "source": [
    "from NeoPixel import NeoPixel\n",
    "\n",
    "myneo = NeoPixel"
   ]
  },
  {
   "cell_type": "code",
   "execution_count": 108,
   "metadata": {},
   "outputs": [
    {
     "name": "stderr",
     "output_type": "stream",
     "text": [
      "Traceback (most recent call last):\r\n",
      "  File \"<stdin>\", line 1, in <module>\r\n",
      "  File \"libraries/drivers/neopixel/neopixel.py\", line 23, in __setitem__\r\n",
      "AttributeError: type object 'NeoPixel' has no attribute 'bpp'\r\n"
     ]
    }
   ],
   "source": [
    "NeoPixel.__setitem__(myneo, 3, bytes_per_pixel)"
   ]
  },
  {
   "cell_type": "code",
   "execution_count": null,
   "metadata": {
    "collapsed": true
   },
   "outputs": [],
   "source": [
    "def set_color(ring_index, single_color):\n",
    "   offset = ring_index\n",
    "   for i in range(bpp):\n",
    "       neo_buffer[offset + 1] = single_color\n",
    "       neo_buffer[offset + 0] = single_color\n",
    "       neo_buffer[offset + 2] = single_color\n",
    "       neo_buffer[offset + 3] = single_color"
   ]
  },
  {
   "cell_type": "code",
   "execution_count": null,
   "metadata": {
    "collapsed": true
   },
   "outputs": [],
   "source": [
    "ring_index = 11\n",
    "color_value = 20"
   ]
  },
  {
   "cell_type": "code",
   "execution_count": null,
   "metadata": {
    "collapsed": true
   },
   "outputs": [],
   "source": [
    "led_array = []\n",
    "for counter in range(num_leds):\n",
    "    led_array.insert(counter, set_color(ring_index, color_value))"
   ]
  },
  {
   "cell_type": "code",
   "execution_count": null,
   "metadata": {
    "collapsed": true
   },
   "outputs": [],
   "source": [
    "class NeoPixel:\n",
    "    ORDER = (1, 0, 2, 3)\n",
    "    def __init__(self, pin, n, bpp=3):\n",
    "        self.pin = digitalio.DigitalInOut(pin)\n",
    "        self.n = n\n",
    "        self.bpp = bpp\n",
    "        self.buf = bytearray(n * bpp)\n",
    "        self.pin.switch_to_output()\n",
    "\n",
    "    def __enter__(self):\n",
    "        return self\n",
    "\n",
    "    def __exit__(self, exception_type, exception_value, traceback):\n",
    "        self.pin.deinit()\n",
    "\n",
    "    def __setitem__(self, index, val):\n",
    "        offset = index * self.bpp\n",
    "        for i in range(self.bpp):\n",
    "            self.buf[offset + self.ORDER[i]] = val[i]\n",
    "\n",
    "    def __getitem__(self, index):\n",
    "        offset = index * self.bpp\n",
    "        return tuple(self.buf[offset + self.ORDER[i]]\n",
    "                     for i in range(self.bpp))\n",
    "\n",
    "    def fill(self, color):\n",
    "        for i in range(self.n):\n",
    "            self[i] = color\n",
    "\n",
    "    def write(self):\n",
    "        neopixel_write(self.pin, self.buf)"
   ]
  },
  {
   "cell_type": "code",
   "execution_count": null,
   "metadata": {
    "collapsed": true
   },
   "outputs": [],
   "source": [
    "# MIT License\n",
    "# Copyright: Carol Willing, 2017.\n",
    "\n",
    "# Learn, Build, Share - Openly\n",
    "# A\"Gentle Code Garden\" tutorial"
   ]
  },
  {
   "cell_type": "code",
   "execution_count": null,
   "metadata": {
    "collapsed": true
   },
   "outputs": [],
   "source": []
  }
 ],
 "metadata": {
  "kernelspec": {
   "display_name": "CircuitPython",
   "language": "python",
   "name": "circuitpython"
  },
  "language_info": {
   "codemirror_mode": {
    "name": "python",
    "version": 3
   },
   "file_extension": ".py",
   "mimetype": "text/x-python",
   "name": "python",
   "pygments_lexer": "python3",
   "version": "3"
  }
 },
 "nbformat": 4,
 "nbformat_minor": 2
}
