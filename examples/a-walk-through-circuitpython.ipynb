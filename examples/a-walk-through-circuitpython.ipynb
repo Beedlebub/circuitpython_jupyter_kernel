{
 "cells": [
  {
   "cell_type": "markdown",
   "metadata": {},
   "source": [
    "## A walk through CircuitPython"
   ]
  },
  {
   "cell_type": "markdown",
   "metadata": {},
   "source": [
    "### Help\n",
    "\n",
    "The `help()` function has information for you about\n",
    "the modules that are available in CircuitPython.\n",
    "\n",
    "A **module** is a bunch of code that does one thing well.\n",
    "For example, the `analogio` module does one thing\n",
    "well handle analog output and input to a pin on a\n",
    "board.\n",
    "\n",
    "Let's see what the `help()` function tells us:"
   ]
  },
  {
   "cell_type": "code",
   "execution_count": 30,
   "metadata": {},
   "outputs": [
    {
     "name": "stdout",
     "output_type": "stream",
     "text": [
      "Welcome to Adafruit CircuitPython 0.9.4!\r",
      "\r\n",
      "\r",
      "\r\n",
      "Please visit learn.adafruit.com/category/circuitpython for project guides.\r",
      "\r\n",
      "\r",
      "\r\n",
      "Built in modules:\r",
      "\r\n",
      "\t__main__\r",
      "\r\n",
      "\tbuiltins\r",
      "\r\n",
      "\tmicropython\r",
      "\r\n",
      "\tarray\r",
      "\r\n",
      "\tucollections\r",
      "\r\n",
      "\tustruct\r",
      "\r\n",
      "\tmath\r",
      "\r\n",
      "\tsys\r",
      "\r\n",
      "\tgc\r",
      "\r\n",
      "\turandom\r",
      "\r\n",
      "\tmicrocontroller\r",
      "\r\n",
      "\tanalogio\r",
      "\r\n",
      "\tdigitalio\r",
      "\r\n",
      "\tpulseio\r",
      "\r\n",
      "\tbusio\r",
      "\r\n",
      "\tboard\r",
      "\r\n",
      "\tuos\r",
      "\r\n",
      "\ttime\r",
      "\r\n",
      "\tneopixel_write\r",
      "\r\n",
      "\tsamd\r",
      "\r\n",
      "\tusb_hid\r",
      "\r\n",
      "\ttouchio\r",
      "\r\n",
      "\tbitbangio\r",
      "\r\n",
      "None\r\n"
     ]
    }
   ],
   "source": [
    "# print is also a function\n",
    "print(help())"
   ]
  },
  {
   "cell_type": "markdown",
   "metadata": {},
   "source": [
    "Wow! That's a lot of modules. Don't worry we will learn about each one as it is needed."
   ]
  },
  {
   "cell_type": "markdown",
   "metadata": {},
   "source": [
    "### sys (also know as system module)\n",
    "\n",
    "`sys` is the module that is used to tell us information about the system that is being used."
   ]
  },
  {
   "cell_type": "code",
   "execution_count": 31,
   "metadata": {
    "collapsed": true
   },
   "outputs": [],
   "source": [
    "# Hi... I'm a comment. When you see a '#' at the start\n",
    "# or a code line, its information for the person coding.\n",
    "# The computer ignores the comments.\n",
    "# Let's import the sys module into the computer's brain\n",
    "import sys"
   ]
  },
  {
   "cell_type": "code",
   "execution_count": 32,
   "metadata": {},
   "outputs": [
    {
     "name": "stdout",
     "output_type": "stream",
     "text": [
      "object <module 'sys'> is of type module\r\n",
      "  __name__ -- sys\r\n",
      "  path -- ['', '/flash', '/flash/lib']\r\n",
      "  argv -- []\r\n",
      "  version -- 3.4.0\r\n",
      "  version_info -- (3, 4, 0)\r\n",
      "  implementation -- (name='circuitpython', version=(0, 9, 4))\r\n",
      "  platform -- Atmel SAMD21\r\n",
      "  byteorder -- little\r\n",
      "  exit -- <function>\r\n",
      "  stdin -- <io.FileIO 0>\r\n",
      "  stdout -- <io.FileIO 1>\r\n",
      "  stderr -- <io.FileIO 2>\r\n",
      "  modules -- {}\r\n",
      "  print_exception -- <function>\r\n",
      "None\r\n"
     ]
    }
   ],
   "source": [
    "print(help(sys))"
   ]
  },
  {
   "cell_type": "markdown",
   "metadata": {},
   "source": [
    "Cool! The `help` function finds out what sys is and the `print` function writes it to the screen so we can see it."
   ]
  },
  {
   "cell_type": "markdown",
   "metadata": {},
   "source": [
    "---"
   ]
  },
  {
   "cell_type": "code",
   "execution_count": 35,
   "metadata": {
    "collapsed": true
   },
   "outputs": [],
   "source": [
    "# MIT License\n",
    "# Copyright: Carol Willing, 2017.\n",
    "\n",
    "# Learn, Build, Share - Openly\n",
    "# A\"Gentle Code Garden\" tutorial"
   ]
  },
  {
   "cell_type": "code",
   "execution_count": null,
   "metadata": {
    "collapsed": true
   },
   "outputs": [],
   "source": []
  }
 ],
 "metadata": {
  "kernelspec": {
   "display_name": "CircuitPython",
   "language": "python",
   "name": "circuitpython"
  },
  "language_info": {
   "codemirror_mode": {
    "name": "python",
    "version": 3
   },
   "file_extension": ".py",
   "mimetype": "text/x-python",
   "name": "python",
   "pygments_lexer": "python3",
   "version": "3"
  }
 },
 "nbformat": 4,
 "nbformat_minor": 2
}
